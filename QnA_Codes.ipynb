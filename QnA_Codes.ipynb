{
 "cells": [
  {
   "cell_type": "markdown",
   "id": "52824b89-532a-4e54-87e9-1410813cd39e",
   "metadata": {},
   "source": [
    "# LangChain: Q&A over Documents\n",
    "\n",
    "An example might be a tool that would allow you to query a product catalog for items of interest."
   ]
  },
  {
   "cell_type": "code",
   "execution_count": 1,
   "id": "10c1f7b9",
   "metadata": {},
   "outputs": [],
   "source": [
    "#pip install --upgrade langchain\n",
    "\n",
    "import os\n",
    "import openai\n",
    "import tiktoken\n",
    "from dotenv import load_dotenv, find_dotenv\n",
    "_ = load_dotenv(find_dotenv()) # read local .env file where you can have your own API keys\n",
    "\n",
    "openai.api_key  = os.environ['OPENAI_API_KEY']"
   ]
  },
  {
   "cell_type": "code",
   "execution_count": 2,
   "id": "c1b74879",
   "metadata": {},
   "outputs": [],
   "source": [
    "# pip install pypdf"
   ]
  },
  {
   "cell_type": "code",
   "execution_count": 3,
   "id": "974acf8e-8f88-42de-88f8-40a82cb58e8b",
   "metadata": {},
   "outputs": [],
   "source": [
    "from langchain.chains import RetrievalQA  ## retrieval over some documents\n",
    "from langchain.chat_models import ChatOpenAI\n",
    "from langchain.document_loaders import CSVLoader  ## document loader\n",
    "from langchain.document_loaders import PyPDFLoader\n",
    "from langchain.vectorstores import DocArrayInMemorySearch  ## in memory vectore store\n",
    "from IPython.display import display, Markdown"
   ]
  },
  {
   "cell_type": "code",
   "execution_count": 4,
   "id": "038db73c",
   "metadata": {},
   "outputs": [],
   "source": [
    "file = \"./Data/MS_BAIS_New_Students.pdf\"\n",
    "loader = PyPDFLoader(file_path=file)"
   ]
  },
  {
   "cell_type": "code",
   "execution_count": 5,
   "id": "7249846e",
   "metadata": {},
   "outputs": [],
   "source": [
    "# loader = PyPDFLoader(\"./Data/MS_BAIS_New_Students.pdf\")"
   ]
  },
  {
   "cell_type": "code",
   "execution_count": 6,
   "id": "5303e27f",
   "metadata": {},
   "outputs": [],
   "source": [
    "# pip install --upgrade sqlalchemy"
   ]
  },
  {
   "cell_type": "code",
   "execution_count": 7,
   "id": "6c434bbc",
   "metadata": {},
   "outputs": [],
   "source": [
    "# pip install langchain sqlalchemy"
   ]
  },
  {
   "cell_type": "code",
   "execution_count": 8,
   "id": "5bfaba30",
   "metadata": {},
   "outputs": [],
   "source": [
    "from langchain.indexes import VectorstoreIndexCreator"
   ]
  },
  {
   "cell_type": "code",
   "execution_count": 9,
   "id": "9b5ab657",
   "metadata": {},
   "outputs": [],
   "source": [
    "# pip install docarray"
   ]
  },
  {
   "cell_type": "code",
   "execution_count": 10,
   "id": "2e0be4c9",
   "metadata": {},
   "outputs": [],
   "source": [
    "# pip install --upgrade pip setuptools wheel\n"
   ]
  },
  {
   "cell_type": "code",
   "execution_count": 11,
   "id": "9e200726",
   "metadata": {},
   "outputs": [],
   "source": [
    "index = VectorstoreIndexCreator(\n",
    "    vectorstore_cls=DocArrayInMemorySearch\n",
    ").from_loaders([loader])"
   ]
  },
  {
   "cell_type": "code",
   "execution_count": 12,
   "id": "34562d81",
   "metadata": {},
   "outputs": [],
   "source": [
    "query =\"Information about clear your immunization and insurance holds\""
   ]
  },
  {
   "cell_type": "code",
   "execution_count": 13,
   "id": "cfd0cc37",
   "metadata": {},
   "outputs": [],
   "source": [
    "response1 = index.query(query)"
   ]
  },
  {
   "cell_type": "code",
   "execution_count": 14,
   "id": "ae21f1ff",
   "metadata": {
    "scrolled": true
   },
   "outputs": [
    {
     "data": {
      "text/markdown": [
       " Student Health Service information can be found at http://www.usf.edu/student-affairs/student-health-services. Immunization information is at http://www.usf.edu/student-affairs/student-health-services/immunizations, there are phone numbers and an email address available at this site."
      ],
      "text/plain": [
       "<IPython.core.display.Markdown object>"
      ]
     },
     "metadata": {},
     "output_type": "display_data"
    }
   ],
   "source": [
    "display(Markdown(response1))"
   ]
  },
  {
   "cell_type": "code",
   "execution_count": 15,
   "id": "631396c6",
   "metadata": {},
   "outputs": [],
   "source": [
    "loader = PyPDFLoader(file_path=file)"
   ]
  },
  {
   "cell_type": "code",
   "execution_count": 16,
   "id": "6c2164b5",
   "metadata": {},
   "outputs": [],
   "source": [
    "docs1 = loader.load()"
   ]
  },
  {
   "cell_type": "code",
   "execution_count": 17,
   "id": "b0772ce9",
   "metadata": {},
   "outputs": [
    {
     "data": {
      "text/plain": [
       "7"
      ]
     },
     "execution_count": 17,
     "metadata": {},
     "output_type": "execute_result"
    }
   ],
   "source": [
    "len(docs1)"
   ]
  },
  {
   "cell_type": "code",
   "execution_count": 18,
   "id": "4a977f44",
   "metadata": {},
   "outputs": [
    {
     "data": {
      "text/plain": [
       "Document(page_content='2 Review the BAIS  Program : The MS BAIS  Program curriculum includes  6 required courses and 6 electives.  Plan included below.  Some of \\nthese courses have prerequisites.  See https://www.usf.edu/business/graduate/masters/bais/coursework.aspx  for more on the \\ncoursework.  \\nMS BAIS  Program Technical Core  Classes  - (required ): \\n• ISM 6 124 – Advanced Systems Analysis and Design  (requires a systems analysis or software engineering prerequisite)  \\n• ISM 6 218 – Advanced Database Administration  (requires a database prerequisite)  \\n• ISM 6 225 – Distributed Information Systems  (should have completed  the Object -Orien ted programming prerequisite)  \\n• QMB 6 304 – Analytical Methods for Business  \\n• ISM 6 155 – Enterprise Information Systems Management  \\n• ISM 6945 – BAIS Internship  - required prerequisites: Analytical Methods for Business (QMB 6304), Advanced Database (ISM \\n6218) and  Data Mining (ISM 6136)  \\nMS BAIS  Program Electives  – (17 credits) : \\n• These are generally the 6000 level , 3-credit ISM courses .   \\n• Relevant courses from other departments across USF can be used with prior approval . However,  classes out of our \\ndepartment (non -ISM or MAN ) MUST be approved before you assume it can be used as part of the MS BAIS degree.      \\nBI Concentration - SAS/USF Analytics and Business Intelligence  Graduate Certificate – If you are interested in this, plan y our \\nschedule to include  4 of the courses listed at http://catalog.usf.edu/preview_program.php?catoid=9&poid=2813&returnto=996 .  \\nThese classes  can be used as your electives .  \\nCourse Sequencing notes: The MS BAIS program gives you the opportunity to develop deep expertise in an area by taking \\ncourses in the area in a sequence in 2/3 consecutive semesters. You will get the most by following one or more of these \\nsequences depending on your expertise and career focus .  \\n• Data Science :  Recommended c ourse Sequence:  Data Mining -> Data Science Programming -> Big Dat a for Business \\nApplications.  \\n• Application Development : Recommended c ourse Sequence : Distributed Information Systems -> Big Data for Business \\nApplications.  \\n• Data Analytics using Statistics : Recommended c ourse Sequence:   Analytical Methods in Business -> Statistical Data Mining  \\nPlease refrain from registering  for one of the later courses in a sequence without completing the prior classes in the sequence in \\norder to get the most of out of these courses . This also helps students in the later courses benefit from a deeper coverage of the \\nmaterial.  \\nMake a tentative plan – The MS BAIS  degree requires 33 credits  plus any outstanding prerequisites.  You’ll want to plan out your \\ncoursework based on  your expected graduation date.   \\nA few notes on this:  \\n• The fall and spring each have a 12-week  session and a 4-week  session.  This means you can take classes during the 12 -week \\nsession and also take a class in a 4-week  session.    The 4 -week sessions class es usually meet twice a week at night and on \\nSaturday mornings.   In the spring , these accelerated classes are offered in January.  In the fall they are offered  late -\\nNovember through mid -December.  \\n• The spring session often offers a 1 week, 3 credit class du ring spring break that meets every day, all day.    \\n• In early summer, we often  offer a 4 week ‘Maymester’ class , where  possible . \\n• It’s strongly recommended to take all of your core classes during the fall and spring.   Summer is a difficult time to complete \\nrequired courses since  there are often fewer classes offered  and many students use summer to complete a summer  \\ninternship as an independent study course.  It’s best if you leave your electives for the summer term(s).  \\n• Some good classes to start wit h are:  \\no Required First Semester Classes (you’ll be automatically registered for these courses) : ', metadata={'source': './Data/MS_BAIS_New_Students.pdf', 'page': 1})"
      ]
     },
     "execution_count": 18,
     "metadata": {},
     "output_type": "execute_result"
    }
   ],
   "source": [
    "docs1[1]  ## look at the individual dcoument"
   ]
  },
  {
   "cell_type": "code",
   "execution_count": 19,
   "id": "e875693a",
   "metadata": {},
   "outputs": [],
   "source": [
    "from langchain.embeddings import OpenAIEmbeddings ## directly embedding since it's not  a large document to chunck before..\n",
    "embeddings = OpenAIEmbeddings()"
   ]
  },
  {
   "cell_type": "code",
   "execution_count": 20,
   "id": "779bec75",
   "metadata": {},
   "outputs": [],
   "source": [
    "embed = embeddings.embed_query(\"Information about clear your immunization and insurance holds\")  # see what embedding do "
   ]
  },
  {
   "cell_type": "code",
   "execution_count": 21,
   "id": "699aaaf9",
   "metadata": {},
   "outputs": [
    {
     "name": "stdout",
     "output_type": "stream",
     "text": [
      "1536\n"
     ]
    }
   ],
   "source": [
    "print(len(embed))  ### it has 1000 different elements"
   ]
  },
  {
   "cell_type": "code",
   "execution_count": 22,
   "id": "9d00d346",
   "metadata": {},
   "outputs": [
    {
     "name": "stdout",
     "output_type": "stream",
     "text": [
      "[-0.007898134799456781, 0.007864324066040481, 0.002782604780276943, -0.04316925459835935, -0.03216055653898886]\n"
     ]
    }
   ],
   "source": [
    "print(embed[:5])  ## each of these elements have different numerical values"
   ]
  },
  {
   "cell_type": "code",
   "execution_count": 23,
   "id": "5313a5c0",
   "metadata": {},
   "outputs": [],
   "source": [
    "from langchain.text_splitter import CharacterTextSplitter\n",
    "text_splitter = CharacterTextSplitter(chunk_size=500, chunk_overlap=0)\n",
    "docs = text_splitter.split_documents(docs1)"
   ]
  },
  {
   "cell_type": "code",
   "execution_count": 24,
   "id": "27ad0bb0",
   "metadata": {},
   "outputs": [],
   "source": [
    "db = DocArrayInMemorySearch.from_documents(\n",
    "    docs, \n",
    "    embeddings\n",
    ")  ## we want to embed all piece of text loaded and also want to store in vector space"
   ]
  },
  {
   "cell_type": "code",
   "execution_count": 26,
   "id": "0329bfd5",
   "metadata": {},
   "outputs": [],
   "source": [
    "query =\"Information about clear your immunization and insurance holds\""
   ]
  },
  {
   "cell_type": "code",
   "execution_count": 27,
   "id": "7909c6b7",
   "metadata": {},
   "outputs": [],
   "source": [
    "docs = db.similarity_search(query)"
   ]
  },
  {
   "cell_type": "code",
   "execution_count": 28,
   "id": "43321853",
   "metadata": {},
   "outputs": [
    {
     "data": {
      "text/plain": [
       "4"
      ]
     },
     "execution_count": 28,
     "metadata": {},
     "output_type": "execute_result"
    }
   ],
   "source": [
    "len(docs)"
   ]
  },
  {
   "cell_type": "code",
   "execution_count": 29,
   "id": "6eba90b5",
   "metadata": {},
   "outputs": [
    {
     "data": {
      "text/plain": [
       "Document(page_content='3 ▪ QMB 6304 – Analytical Methods for Business (if you have met the statistics prerequisite ) \\n▪ ISM 6136 – Data Mining  \\n▪ ISM 6218 – Advanced Database Administration (if you have met the database prerequisite ) \\no Additional Courses to Consider:  \\n▪ ISM 61 24 – Systems Analysis and Design ( if you have met the systems analysis prerequisite )  \\n▪ ISM 6155 – Enterprise Information Systems Management  \\n▪ ISM 6225 – Distributed Information Systems ( if you have met the object -oriented programming  prerequisite ) \\n• Related to the above, s ome classes may fill up before you can register.  If this happens, please take advantage of the \\n‘waitlist’ option.  This helps us know how many studen ts need to enroll and we can often adjust class sizes or suggest \\nalternative classes.  \\n• Your  last semester must include at least 2 or more credits .  International students may have to comply with policies \\nregarding on -campus vs. online courses taken in the p rogram.  Be sure you understand how these policies impact the \\nscheduling of your courses.   International Student Services ( http://global.usf.edu/is ) has a comprehensive site  and contact \\ninformation  for international  students.   If you have any questions about the status of a blended format course (online or on -\\ncampus), please contact International Student Services . \\n• There  are several programs that include ISM graduate classes  (below).  Classes in these programs are not available to on -\\ncampus MS BAIS students :  MBA  Online Program ,  Cybersecurity  Program , Executive MS BAIS Program  \\n• There are a few ISM classes that do not count towards the MS BAIS degree.  They are:  \\no ISM 6217 (this may be used to meet a prerequisite only)  \\no ISM 6123 (this may be used to meet a prerequisite only)  \\no ISM 6021, ISM 6436 , ISM 6930 (Data Analytics for Business) , Fund of Data Management & Analysis  \\no QMB 6358 , QMB 6305 , QMB  6603  or any 2 credit MBA statistics -related course  \\no Please check on non -ISM electives before assuming they can be used as part of our coursework.  \\n \\nInformation on Funding  \\n• The BAIS / SISM  department has varying numbers of GA positions each semester, which are awa rded on a competitive basis. \\nThese positions are limited and there are  specific professional expectations associated with each position.  When applications \\nare being accepted, all current and  newly  admitted students will be invited to apply . Incoming international students will need \\nto send their  visa in order to be considered.   Please wait for the application announcement and do not email individual \\nprofessors.  \\n• See our FAQ page, ‘finances’ area,  for more on this http://www.usf.edu/business/graduate/masters/bais/faq.aspx  .  Other \\nuniversity -wide funding opportunities can be found at https://www.usf.edu/graduate -studies/funding/fellowships -\\nscholarships/  While the department does its best, it is unable to make any commitment that you will find a GA position during \\nyour time here.    \\n \\nA few more contacts:  \\n• Questions about required  official documents should be directed to the Office of Graduate Admissions.  Their contact \\ninformation can be found at  https://www.usf.edu/admissions/graduate/cont act-us/    \\n• General Graduate Program information can be found at: https://www.usf.edu/graduate -studies/  \\n• The registrar’s site is http://www.usf.edu/registrar/  which has useful information, including  the academic calendar.  T uition \\ninformation, including contact information, can be found at http://www.usf.edu/business -finance/controller  .   \\n• International Student Services information can be found at http://global.usf.edu/is/ .  Covid information can be found here .  \\nNote that when you get  your i-20, the program will be listed as related to Computer Systems, not BAIS.  This is a state  \\ndesignation and does not have any bearing on our degree name.  \\n• We have a group of current MS BAIS  student s who are available to answer your questions as  you transition to USF.  Their \\ncontact information is posted on our  New Student page  (http://www.usf.edu/business/graduate/masters/bais /new -\\nstudent.aspx )', metadata={'source': './Data/MS_BAIS_New_Students.pdf', 'page': 2})"
      ]
     },
     "execution_count": 29,
     "metadata": {},
     "output_type": "execute_result"
    }
   ],
   "source": [
    "docs[2]"
   ]
  },
  {
   "cell_type": "code",
   "execution_count": 30,
   "id": "c0c3596e",
   "metadata": {},
   "outputs": [],
   "source": [
    "retriever = db.as_retriever()"
   ]
  },
  {
   "cell_type": "code",
   "execution_count": 31,
   "id": "0625f5e8",
   "metadata": {},
   "outputs": [],
   "source": [
    "llm = ChatOpenAI(temperature = 0.0)\n"
   ]
  },
  {
   "cell_type": "code",
   "execution_count": 32,
   "id": "a573f58a",
   "metadata": {},
   "outputs": [],
   "source": [
    "qdocs = \"\".join([docs[i].page_content for i in range(len(docs))])  ## we wil lcombine a document into single piece of text\n"
   ]
  },
  {
   "cell_type": "code",
   "execution_count": 33,
   "id": "5cbb8dd1",
   "metadata": {},
   "outputs": [
    {
     "data": {
      "text/plain": [
       "\"USF MS BAIS  (on-campus) Program \\nPlanning / Course Selection  \\nFor Incoming Students  \\n \\n \\nGetting started  - Fall 2022  \\nWelcome to USF’s MS Business Analytics and Information Systems  program  (BAIS) .  This document is intended to help you get ready to \\njoin us.  Please contact Prof. Barbara Warner ( bwarner@usf.edu ) with any questions.  \\nGetting Started  - New Student Checklist:  \\n1) Review our New Student PDF at http://www.usf.edu/business/graduate/masters/bais/new -student.aspx  \\n2) Register for our department’s orientation via http://usfweb.usf.edu/business/forms/bais -orientation -register.aspx  by July 15 . It \\nis tentatively scheduled for Thursday, August 18 , at 8:30 am.  At this time, orientation is planned to be on -campus. Registering for \\norientation  lets us know of your intent to attend so we can send you notifications relating to your start at USF. NOTE :  if you are \\nplanning to attend USF in the upcoming semester, but cannot attend orientation, please register for the event anyway and note  \\nyour inab ility to attend in the ‘Expected Date of Arrival’ area.   There is no admissions deposit required by USF .  Additionally, there \\nis an Office of Graduate Studies orientation as well as our department orientation.  Both are valuable , but we only require the \\ndepartment orientation.  \\n3) Complete the academic integrity course (you’ll be enrolled after I receive your orientation request)  \\n4) Request a prerequisite review.  Email me at bwarner@usf.edu  with your U number.   \\nA list of required prerequisites can be found on our FAQ page at http://www.usf.edu/business/graduate/masters/bais/faq.aspx  .    \\nWith careful course planning,  prerequisite s can be done before joining the program or while in the program .  Note:  if you have not \\nmet the technical prerequisites, you’ll be required to take those classes on -campus at USF before taking the more advanced \\ntechnical courses.   Students that need to complete technical prerequisites will remain on hold until they requested permission to \\nenroll in USF prerequisite courses or  have provided evidence of completing the prerequisites.     \\n5) Clear your immunization and insurance holds with Student Health Services.  \\nStudent Health Service information can be found at http://www.usf.edu/student -affairs/student -health -services .  Immunization \\ninformation is at http://www.usf.edu/student -affairs/student -health -services/immunizations , there are phone numbers and an \\nemail address available at this site  \\n6) Send a copy of your visa to me at bwar ner@usf.edu  as soon as you get it .  If you do not require a visa / are a domestic student , \\nsend an email and let me know . \\n7) Once all of this is done, email me with your U number and request course registration for the fall.   I’ll then clear the MS \\ndepartment hold on your account   and register you for our 3 starting classes.  \\n**All incoming students are required to take Advance d Database (ISM 6218), Analytical Methods for Business (QMB 6304) and Data \\nMining (ISM 6136).  You will be registered for these classes automatically .  If you want to enroll in additional fall courses, you can \\nregister via Oasis (see links in #3, above).  You can see each semester’s schedule at \\nhttps://usfweb.usf.edu/DSS/StaffScheduleSearch  .   NOTE:  If you  register for additional classes and  receive a message saying you \\nhave not been assigned a  ‘time slot’ for registration, please call the registrar’s office at 813 -974-2000.   International students \\nrequiring a visa to attend need to send a copy of their visa ( bwarner@usf.edu ) before registration can be completed.    \\nCovid update: If you plan to take your fall classes remotely, please email me to plan your schedule . \\nSome additional Resources:  \\nPaying tuition, etc. (see https://www.usf.edu/admissions/international/admission -information/cost -of-attendance/payment -\\nmethods.aspx  ). NOTE:  If you choose to wire your tuition payment, please use peertransfer at https://www.flywire.com/   \\n \\nReview the Basic Graduate College New Student  Information :  This includes  how to pay tuition, registration, and links for international \\nstudents as well as other valuable resources for new graduate students.  New Office of Graduate Studies student information can be \\nfound at https://www.usf.edu/graduate -studies/students/newly -admitted -students/  and \\nhttps://www.usf.edu/admissions/graduate/next -steps/admitted -student -checklist.aspx4 We are excited to  welcome you to USF. We look forward to meeting you soon!  \\nAttachments:    \\n• Program planning guide ,   \\n• Recommended pre -start courses  (update recommendations are welcome) . Get a jump on the semester3 ▪ QMB 6304 – Analytical Methods for Business (if you have met the statistics prerequisite ) \\n▪ ISM 6136 – Data Mining  \\n▪ ISM 6218 – Advanced Database Administration (if you have met the database prerequisite ) \\no Additional Courses to Consider:  \\n▪ ISM 61 24 – Systems Analysis and Design ( if you have met the systems analysis prerequisite )  \\n▪ ISM 6155 – Enterprise Information Systems Management  \\n▪ ISM 6225 – Distributed Information Systems ( if you have met the object -oriented programming  prerequisite ) \\n• Related to the above, s ome classes may fill up before you can register.  If this happens, please take advantage of the \\n‘waitlist’ option.  This helps us know how many studen ts need to enroll and we can often adjust class sizes or suggest \\nalternative classes.  \\n• Your  last semester must include at least 2 or more credits .  International students may have to comply with policies \\nregarding on -campus vs. online courses taken in the p rogram.  Be sure you understand how these policies impact the \\nscheduling of your courses.   International Student Services ( http://global.usf.edu/is ) has a comprehensive site  and contact \\ninformation  for international  students.   If you have any questions about the status of a blended format course (online or on -\\ncampus), please contact International Student Services . \\n• There  are several programs that include ISM graduate classes  (below).  Classes in these programs are not available to on -\\ncampus MS BAIS students :  MBA  Online Program ,  Cybersecurity  Program , Executive MS BAIS Program  \\n• There are a few ISM classes that do not count towards the MS BAIS degree.  They are:  \\no ISM 6217 (this may be used to meet a prerequisite only)  \\no ISM 6123 (this may be used to meet a prerequisite only)  \\no ISM 6021, ISM 6436 , ISM 6930 (Data Analytics for Business) , Fund of Data Management & Analysis  \\no QMB 6358 , QMB 6305 , QMB  6603  or any 2 credit MBA statistics -related course  \\no Please check on non -ISM electives before assuming they can be used as part of our coursework.  \\n \\nInformation on Funding  \\n• The BAIS / SISM  department has varying numbers of GA positions each semester, which are awa rded on a competitive basis. \\nThese positions are limited and there are  specific professional expectations associated with each position.  When applications \\nare being accepted, all current and  newly  admitted students will be invited to apply . Incoming international students will need \\nto send their  visa in order to be considered.   Please wait for the application announcement and do not email individual \\nprofessors.  \\n• See our FAQ page, ‘finances’ area,  for more on this http://www.usf.edu/business/graduate/masters/bais/faq.aspx  .  Other \\nuniversity -wide funding opportunities can be found at https://www.usf.edu/graduate -studies/funding/fellowships -\\nscholarships/  While the department does its best, it is unable to make any commitment that you will find a GA position during \\nyour time here.    \\n \\nA few more contacts:  \\n• Questions about required  official documents should be directed to the Office of Graduate Admissions.  Their contact \\ninformation can be found at  https://www.usf.edu/admissions/graduate/cont act-us/    \\n• General Graduate Program information can be found at: https://www.usf.edu/graduate -studies/  \\n• The registrar’s site is http://www.usf.edu/registrar/  which has useful information, including  the academic calendar.  T uition \\ninformation, including contact information, can be found at http://www.usf.edu/business -finance/controller  .   \\n• International Student Services information can be found at http://global.usf.edu/is/ .  Covid information can be found here .  \\nNote that when you get  your i-20, the program will be listed as related to Computer Systems, not BAIS.  This is a state  \\ndesignation and does not have any bearing on our degree name.  \\n• We have a group of current MS BAIS  student s who are available to answer your questions as  you transition to USF.  Their \\ncontact information is posted on our  New Student page  (http://www.usf.edu/business/graduate/masters/bais /new -\\nstudent.aspx )5   USF MS BAIS  (on-campus)  \\n \\nMS BAIS  Program Planning Guide  \\nProgram Prerequisites  – all must be taken before graduation, some may be required for specific program classes  \\nPlease c ontact  Prof. Barb Warner  (bwarner@usf.edu ) for information on meeting  / waiving  these prerequisites.  \\nObject -Oriented Programming (C# or Java – ISM 3232 / ISM 4141 or equivalent  / experience)  \\nSystems Analysis &Design  (ISM 3113 / ISM 6123 or e quivalent / experience)  \\nDatabase Management / Admin  (ISM 4212 / ISM 6217 / LIS 2937 or equivalent / experience)  \\nFinancial  Accounting (ACG 2012 or equivalent / experience)  \\nEconomics  (ECO2013 or equivalent / experience)  \\nStatistics (QMB 2100 or equivalent / experience.  Business -related statistics that minimally includes probability distributions, regression analysis, \\nmultivariate analysis, and hypothesis testing.  \\nTechnical Core  \\nISM 6124 – Advanced System Analysis & Design  (Prerequisite:  Systems Analysis & Design - above)  \\nISM 6218 – Advanced Database  Administration (Prerequisite: Database Design/Mgmt)   \\n**This is a prerequisite for Data Warehousing (ISM  6208)  \\nISM 6225 - Distributed Info Systems  \\nQMB 6304 – Analytical Methods for Business   \\nISM 6155 - Enterprise IS Management (capstone – can be taken at any time)  \\nISM 6945 – BAIS Internship  - Prerequisites: Analytical Methods for Business (QMB 6304)  & Advanced Database (ISM 6218)    Required for t hose \\nstarting after spring 2021.  \\nISM/BAIS Electives – 6000 level courses, 3 credit  \\nClasses that can't be used as MS BAIS electives:   Undergraduate Classes & QMB 6305, QMB 6358, ISM 6021, ISM 6123, Fund. Of Data Mgmt & Analysis, ISM 6436, \\nISM 6217 and most 2 -3 credit MBA statistics courses.  Please see our MS BAIS Canvas Group for any add itions to this list.   \\n \\n \\n \\nISM/BAIS or Electives from other departments – 6000 level courses, 3 credit  \\nOut of department courses must be approved (send syllabus and explain how this enhances your MS BAIS degree) .  Please see our MS BAIS Canvas Group for a list \\nof classes than cannot be used as electives.\""
      ]
     },
     "execution_count": 33,
     "metadata": {},
     "output_type": "execute_result"
    }
   ],
   "source": [
    "qdocs"
   ]
  },
  {
   "cell_type": "code",
   "execution_count": 34,
   "id": "14682d95",
   "metadata": {},
   "outputs": [],
   "source": [
    "response_qdocs = llm.call_as_llm(f\"sys{qdocs} Question: Information about prerequisite\") \n"
   ]
  },
  {
   "cell_type": "code",
   "execution_count": 35,
   "id": "d7d1cef4",
   "metadata": {},
   "outputs": [
    {
     "data": {
      "text/markdown": [
       "The document provides information and instructions for incoming students of the MS Business Analytics and Information Systems (BAIS) program at USF. It includes a checklist of tasks to complete before starting the program, such as reviewing the new student PDF, registering for orientation, completing the academic integrity course, and clearing immunization and insurance holds. It also provides information on course selection and prerequisites, including a list of recommended pre-start courses and elective options. The document also mentions funding opportunities and provides contact information for various departments and services at USF."
      ],
      "text/plain": [
       "<IPython.core.display.Markdown object>"
      ]
     },
     "metadata": {},
     "output_type": "display_data"
    }
   ],
   "source": [
    "display(Markdown(response_qdocs))"
   ]
  },
  {
   "cell_type": "code",
   "execution_count": 36,
   "id": "a965b920",
   "metadata": {},
   "outputs": [],
   "source": [
    "response_docs = llm.call_as_llm(f\"{response1} Question: Information about clear your immunization and insurance holds\") "
   ]
  },
  {
   "cell_type": "code",
   "execution_count": 44,
   "id": "8bba545b",
   "metadata": {},
   "outputs": [
    {
     "data": {
      "text/markdown": [
       "To find information about clearing your immunization and insurance holds at USF Student Health Services, you can visit their website at http://www.usf.edu/student-affairs/student-health-services/immunizations. This page should provide you with all the necessary information and instructions on how to clear these holds. Additionally, you can find phone numbers and an email address on the website to contact the Student Health Services directly for any specific questions or concerns you may have."
      ],
      "text/plain": [
       "<IPython.core.display.Markdown object>"
      ]
     },
     "metadata": {},
     "output_type": "display_data"
    }
   ],
   "source": [
    "display(Markdown(response_docs))"
   ]
  },
  {
   "cell_type": "code",
   "execution_count": null,
   "id": "32c94d22",
   "metadata": {},
   "outputs": [],
   "source": [
    "qa_stuff = RetrievalQA.from_chain_type(\n",
    "    llm=llm, \n",
    "    chain_type=\"stuff\", \n",
    "    retriever=retriever, \n",
    "    verbose=True\n",
    ")"
   ]
  },
  {
   "cell_type": "code",
   "execution_count": null,
   "id": "e4769316",
   "metadata": {},
   "outputs": [],
   "source": [
    "query =  \"Please list all your shirts with sun protection in a table \\\n",
    "in markdown and summarize each one.\""
   ]
  },
  {
   "cell_type": "code",
   "execution_count": null,
   "id": "1fc3c2f3",
   "metadata": {},
   "outputs": [],
   "source": [
    "response = qa_stuff.run(query)"
   ]
  },
  {
   "cell_type": "code",
   "execution_count": null,
   "id": "fba1a5db",
   "metadata": {},
   "outputs": [],
   "source": [
    "display(Markdown(response))"
   ]
  },
  {
   "cell_type": "code",
   "execution_count": null,
   "id": "500ec062",
   "metadata": {},
   "outputs": [],
   "source": [
    "response = index.query(query, llm=llm)"
   ]
  },
  {
   "cell_type": "code",
   "execution_count": null,
   "id": "2cffb19f",
   "metadata": {},
   "outputs": [],
   "source": [
    "index = VectorstoreIndexCreator(\n",
    "    vectorstore_cls=DocArrayInMemorySearch,\n",
    "    embedding=embeddings,\n",
    ").from_loaders([loader])"
   ]
  },
  {
   "cell_type": "code",
   "execution_count": null,
   "id": "a9b58916",
   "metadata": {},
   "outputs": [],
   "source": []
  },
  {
   "cell_type": "code",
   "execution_count": null,
   "id": "d590b337",
   "metadata": {},
   "outputs": [],
   "source": []
  },
  {
   "cell_type": "code",
   "execution_count": null,
   "id": "b2cb587c",
   "metadata": {},
   "outputs": [],
   "source": []
  },
  {
   "cell_type": "code",
   "execution_count": null,
   "id": "1ec249f1",
   "metadata": {},
   "outputs": [],
   "source": []
  },
  {
   "cell_type": "code",
   "execution_count": null,
   "id": "9d64f166",
   "metadata": {},
   "outputs": [],
   "source": []
  },
  {
   "cell_type": "code",
   "execution_count": null,
   "id": "21322e7e",
   "metadata": {},
   "outputs": [],
   "source": []
  }
 ],
 "metadata": {
  "kernelspec": {
   "display_name": "Python 3 (ipykernel)",
   "language": "python",
   "name": "python3"
  },
  "language_info": {
   "codemirror_mode": {
    "name": "ipython",
    "version": 3
   },
   "file_extension": ".py",
   "mimetype": "text/x-python",
   "name": "python",
   "nbconvert_exporter": "python",
   "pygments_lexer": "ipython3",
   "version": "3.9.16"
  }
 },
 "nbformat": 4,
 "nbformat_minor": 5
}
